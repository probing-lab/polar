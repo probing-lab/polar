{
 "cells": [
  {
   "cell_type": "code",
   "execution_count": 1,
   "metadata": {
    "collapsed": true
   },
   "outputs": [],
   "source": [
    "source_code = \"\"\"\n",
    "# dynamical system parameters\n",
    "a11 = 0.999\n",
    "a12 = 0.003002\n",
    "a21 = 0.002001\n",
    "a22 = 1.002\n",
    "b1 = 0.01003\n",
    "b2 = 0.02003\n",
    "c1 = 1\n",
    "c2 = 0.5\n",
    "period = 0.1\n",
    "\n",
    "# initialization\n",
    "x1, x2 = 1, -1\n",
    "y = c1*x1 + c2*x2\n",
    "y_measure = y\n",
    "z, error = 0, 0\n",
    "setpoint = 1\n",
    "\n",
    "# control parameters\n",
    "kp = 10\n",
    "ki = 0.5\n",
    "\n",
    "while true:\n",
    "\n",
    "  # execution of the controller\n",
    "  error = setpoint - y_measure # input of the controller\n",
    "  z = z + period*error\n",
    "  u = kp*error + ki*z\n",
    "\n",
    "  # execution of dynamical system\n",
    "  x1, x2 = a11*x1 + a12*x2 + b1*u, a21*x1 + a22*x2 + b2*u\n",
    "  y = c1*x1 + c2*x2\n",
    "  g = Normal(0, 1)\n",
    "  y_measure = y + g\n",
    "\n",
    "end\n",
    "\"\"\""
   ]
  },
  {
   "cell_type": "code",
   "execution_count": 2,
   "outputs": [],
   "source": [
    "from inputparser import Parser\n",
    "from program import normalize_program\n",
    "\n",
    "program = Parser().parse_string(source_code)\n",
    "program = normalize_program(program)"
   ],
   "metadata": {
    "collapsed": false,
    "pycharm": {
     "name": "#%%\n"
    }
   }
  },
  {
   "cell_type": "code",
   "execution_count": 8,
   "outputs": [],
   "source": [
    "from recurrences.rec_builder import RecBuilder\n",
    "\n",
    "rec_builder = RecBuilder(program)\n",
    "recurrences = rec_builder.get_recurrences(\"y_measure\")"
   ],
   "metadata": {
    "collapsed": false,
    "pycharm": {
     "name": "#%%\n"
    }
   }
  }
 ],
 "metadata": {
  "kernelspec": {
   "display_name": "Python 3",
   "language": "python",
   "name": "python3"
  },
  "language_info": {
   "codemirror_mode": {
    "name": "ipython",
    "version": 2
   },
   "file_extension": ".py",
   "mimetype": "text/x-python",
   "name": "python",
   "nbconvert_exporter": "python",
   "pygments_lexer": "ipython2",
   "version": "2.7.6"
  }
 },
 "nbformat": 4,
 "nbformat_minor": 0
}
