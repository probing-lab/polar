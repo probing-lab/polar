{
 "cells": [
  {
   "cell_type": "markdown",
   "source": [
    "# Parameters & Sensitivity Analysis"
   ],
   "metadata": {
    "collapsed": false
   }
  },
  {
   "cell_type": "markdown",
   "source": [
    "The probabilistic loops Polar can analyze can contain parameters.\n",
    "Parameters are constants whose value is completely undetermined. Let's look at an example:"
   ],
   "metadata": {
    "collapsed": false
   }
  },
  {
   "cell_type": "code",
   "execution_count": 1,
   "metadata": {
    "collapsed": true
   },
   "outputs": [
    {
     "name": "stdout",
     "output_type": "stream",
     "text": [
      "x = 1\r\n",
      "while true:\r\n",
      "    x = x + 1 {p} x - 1\r\n",
      "end\r\n"
     ]
    }
   ],
   "source": [
    "!cat loops/random_walk_param.prob"
   ]
  },
  {
   "cell_type": "markdown",
   "source": [
    "The loop encodes a random walk with an unknown probability `p`. The unknown probability `p` is the parameter.\n",
    "We can ask the question: \"How do small changes in `p` affect the expected value of the loop variable `x`?\n",
    "To answer this we can, pass `E(x)` in the `goals` option and `p` to the option `sens_diff`.\n",
    "Polar then computes the derivative of the expected value of `x` with respect to `p`.\n"
   ],
   "metadata": {
    "collapsed": false
   }
  },
  {
   "cell_type": "code",
   "execution_count": 11,
   "outputs": [
    {
     "name": "stdout",
     "output_type": "stream",
     "text": [
      "\u001B[32m\r\n",
      "8888888b.   .d88888b.  888             d8888 8888888b.\r\n",
      "888   Y88b d88P\" \"Y88b 888            d88888 888   Y88b\r\n",
      "888    888 888     888 888           d88P888 888    888\r\n",
      "888   d88P 888     888 888          d88P 888 888   d88P\r\n",
      "8888888P\"  888     888 888         d88P  888 8888888P\"\r\n",
      "888        888     888 888        d88P   888 888 T88b\r\n",
      "888        Y88b. .d88P 888       d8888888888 888  T88b\r\n",
      "888         \"Y88888P\"  88888888 d88P     888 888   T88b\r\n",
      "\r\n",
      "By the ProbInG group\r\n",
      "\u001B[0m\r\n",
      "\r\n",
      "\r\n",
      "\u001B[36m----------------------\u001B[0m\r\n",
      "\u001B[36m- Sensitivity Result -\u001B[0m\r\n",
      "\u001B[36m----------------------\u001B[0m\r\n",
      "E(x) = 1; 2*n*p - n + 1\r\n",
      "\u001B[32mSolution is exact\u001B[0m\r\n",
      "\r\n",
      "∂E(x) = 0; 2*n\r\n",
      "\u001B[32mSolution is exact\u001B[0m\r\n",
      "\r\n",
      "Elapsed time: 0.35602426528930664 s\r\n"
     ]
    }
   ],
   "source": [
    "!python ../polar.py loops/random_walk_param.prob --goals \"E(x)\" -sens_diff \"p\""
   ],
   "metadata": {
    "collapsed": false,
    "pycharm": {
     "name": "#%%\n"
    }
   }
  },
  {
   "cell_type": "markdown",
   "source": [
    "Using the option `sens_diff` Polar first computes the closed-form for the moments passed in `goals` and after that differentiates them with respect to the sensitivity parameter.\n",
    "There is a second possibility: Polar can directly construct recurrences for the sensitivity of `E(x)` with respect to `p`, so-called \"sensitivity recurrences\".\n",
    "To achieve this, instead of the `sens_diff` option we use the `sens` option.\n",
    "For more details on \"sensitivity recurrences\" see our paper [Automated Sensitivity Analysis for Probabilistic Loops](https://link.springer.com/chapter/10.1007/978-3-031-47705-8_2)."
   ],
   "metadata": {
    "collapsed": false
   }
  },
  {
   "cell_type": "code",
   "execution_count": 12,
   "outputs": [
    {
     "name": "stdout",
     "output_type": "stream",
     "text": [
      "\u001B[32m\r\n",
      "8888888b.   .d88888b.  888             d8888 8888888b.\r\n",
      "888   Y88b d88P\" \"Y88b 888            d88888 888   Y88b\r\n",
      "888    888 888     888 888           d88P888 888    888\r\n",
      "888   d88P 888     888 888          d88P 888 888   d88P\r\n",
      "8888888P\"  888     888 888         d88P  888 8888888P\"\r\n",
      "888        888     888 888        d88P   888 888 T88b\r\n",
      "888        Y88b. .d88P 888       d8888888888 888  T88b\r\n",
      "888         \"Y88888P\"  88888888 d88P     888 888   T88b\r\n",
      "\r\n",
      "By the ProbInG group\r\n",
      "\u001B[0m\r\n",
      "\r\n",
      "\r\n",
      "\u001B[36m----------------------\u001B[0m\r\n",
      "\u001B[36m- Sensitivity Result -\u001B[0m\r\n",
      "\u001B[36m----------------------\u001B[0m\r\n",
      "∂E(x) = 0; 2*n\r\n",
      "\u001B[32mSolution is exact\u001B[0m\r\n",
      "\r\n",
      "Elapsed time: 0.3173096179962158 s\r\n"
     ]
    }
   ],
   "source": [
    "!python ../polar.py loops/random_walk_param.prob --goals \"E(x)\" -sens \"p\""
   ],
   "metadata": {
    "collapsed": false,
    "pycharm": {
     "name": "#%%\n"
    }
   }
  },
  {
   "cell_type": "markdown",
   "source": [
    "We can also perform the same computation in code instead of using the CLI as follows:"
   ],
   "metadata": {
    "collapsed": false
   }
  },
  {
   "cell_type": "code",
   "execution_count": 16,
   "outputs": [
    {
     "name": "stdout",
     "output_type": "stream",
     "text": [
      "Piecewise((0, n <= 0), (2*n, True))\n"
     ]
    }
   ],
   "source": [
    "from inputparser import Parser\n",
    "from program import normalize_program\n",
    "from recurrences import DiffRecBuilder\n",
    "from recurrences.solver import RecurrenceSolver\n",
    "from symengine import Symbol\n",
    "\n",
    "program = Parser().parse_file(\"loops/random_walk_param.prob\")\n",
    "# Construct normal form so that Polar can analyze it\n",
    "program = normalize_program(program)\n",
    "\n",
    "# Use DiffRecBuilder to construct sensitivity recurrences with respect to a given symbol\n",
    "diff_rec_builder = DiffRecBuilder(program, Symbol(\"p\"))\n",
    "recurrences = diff_rec_builder.get_recurrences(\"x\")\n",
    "delta_x = str(diff_rec_builder.delta) + \"*x\"\n",
    "solution = RecurrenceSolver(recurrences).get(delta_x)\n",
    "\n",
    "print(solution)"
   ],
   "metadata": {
    "collapsed": false,
    "pycharm": {
     "name": "#%%\n"
    }
   }
  }
 ],
 "metadata": {
  "kernelspec": {
   "display_name": "Python 3",
   "language": "python",
   "name": "python3"
  },
  "language_info": {
   "codemirror_mode": {
    "name": "ipython",
    "version": 2
   },
   "file_extension": ".py",
   "mimetype": "text/x-python",
   "name": "python",
   "nbconvert_exporter": "python",
   "pygments_lexer": "ipython2",
   "version": "2.7.6"
  }
 },
 "nbformat": 4,
 "nbformat_minor": 0
}
