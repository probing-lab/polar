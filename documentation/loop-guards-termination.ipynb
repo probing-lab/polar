{
 "cells": [
  {
   "cell_type": "markdown",
   "source": [
    "# Loop Guards & Moments After Termination"
   ],
   "metadata": {
    "collapsed": false
   }
  },
  {
   "cell_type": "code",
   "execution_count": 2,
   "outputs": [
    {
     "name": "stdout",
     "output_type": "stream",
     "text": [
      "\r\n",
      "stop = 0\r\n",
      "steps = 0\r\n",
      "x = 1\r\n",
      "while stop == 0:\r\n",
      "    stop = Bernoulli(1/2)\r\n",
      "    x = 2*x\r\n",
      "    steps = steps + 1\r\n",
      "end\r\n"
     ]
    }
   ],
   "source": [
    "!cat loops/geometric.prob"
   ],
   "metadata": {
    "collapsed": false,
    "pycharm": {
     "name": "#%%\n"
    }
   }
  },
  {
   "cell_type": "code",
   "execution_count": 6,
   "outputs": [
    {
     "name": "stdout",
     "output_type": "stream",
     "text": [
      "\u001B[32m\r\n",
      "8888888b.   .d88888b.  888             d8888 8888888b.\r\n",
      "888   Y88b d88P\" \"Y88b 888            d88888 888   Y88b\r\n",
      "888    888 888     888 888           d88P888 888    888\r\n",
      "888   d88P 888     888 888          d88P 888 888   d88P\r\n",
      "8888888P\"  888     888 888         d88P  888 8888888P\"\r\n",
      "888        888     888 888        d88P   888 888 T88b\r\n",
      "888        Y88b. .d88P 888       d8888888888 888  T88b\r\n",
      "888         \"Y88888P\"  88888888 d88P     888 888   T88b\r\n",
      "\r\n",
      "By the ProbInG group\r\n",
      "\u001B[0m\r\n",
      "\r\n",
      "\r\n",
      "\u001B[36m-------------------\u001B[0m\r\n",
      "\u001B[36m- Analysis Result -\u001B[0m\r\n",
      "\u001B[36m-------------------\u001B[0m\r\n",
      "\r\n",
      "E(stop) = 0; 1 - 1/2**n\r\n",
      "\u001B[32mSolution is exact\u001B[0m\r\n",
      "\r\n",
      "E(steps) = 0; 2 - 2/2**n\r\n",
      "\u001B[32mSolution is exact\u001B[0m\r\n",
      "\r\n",
      "E(x) = 1; 2; n + 1\r\n",
      "\u001B[32mSolution is exact\u001B[0m\r\n",
      "\r\n",
      "Elapsed time: 0.42545104026794434 s\r\n"
     ]
    }
   ],
   "source": [
    "!python ../polar.py loops/geometric.prob --goals \"E(stop)\" \"E(steps)\" \"E(x)\""
   ],
   "metadata": {
    "collapsed": false,
    "pycharm": {
     "name": "#%%\n"
    }
   }
  },
  {
   "cell_type": "code",
   "execution_count": 1,
   "metadata": {
    "collapsed": true
   },
   "outputs": [
    {
     "name": "stdout",
     "output_type": "stream",
     "text": [
      "\u001B[32m\r\n",
      "8888888b.   .d88888b.  888             d8888 8888888b.\r\n",
      "888   Y88b d88P\" \"Y88b 888            d88888 888   Y88b\r\n",
      "888    888 888     888 888           d88P888 888    888\r\n",
      "888   d88P 888     888 888          d88P 888 888   d88P\r\n",
      "8888888P\"  888     888 888         d88P  888 8888888P\"\r\n",
      "888        888     888 888        d88P   888 888 T88b\r\n",
      "888        Y88b. .d88P 888       d8888888888 888  T88b\r\n",
      "888         \"Y88888P\"  88888888 d88P     888 888   T88b\r\n",
      "\r\n",
      "By the ProbInG group\r\n",
      "\u001B[0m\r\n",
      "\r\n",
      "\r\n",
      "\u001B[36m-------------------\u001B[0m\r\n",
      "\u001B[36m- Analysis Result -\u001B[0m\r\n",
      "\u001B[36m-------------------\u001B[0m\r\n",
      "\r\n",
      "E(stop) = 1\r\n",
      "\u001B[32mSolution is exact\u001B[0m\r\n",
      "\r\n",
      "E(steps) = 2\r\n",
      "\u001B[32mSolution is exact\u001B[0m\r\n",
      "\r\n",
      "E(x) = oo\r\n",
      "\u001B[32mSolution is exact\u001B[0m\r\n",
      "\r\n",
      "Elapsed time: 1.2863147258758545 s\r\n"
     ]
    }
   ],
   "source": [
    "!python ../polar.py loops/geometric.prob --goals \"E(stop)\" \"E(steps)\" \"E(x)\" --after_loop"
   ]
  },
  {
   "cell_type": "code",
   "execution_count": 3,
   "outputs": [
    {
     "name": "stdout",
     "output_type": "stream",
     "text": [
      "\u001B[32m\r\n",
      "8888888b.   .d88888b.  888             d8888 8888888b.\r\n",
      "888   Y88b d88P\" \"Y88b 888            d88888 888   Y88b\r\n",
      "888    888 888     888 888           d88P888 888    888\r\n",
      "888   d88P 888     888 888          d88P 888 888   d88P\r\n",
      "8888888P\"  888     888 888         d88P  888 8888888P\"\r\n",
      "888        888     888 888        d88P   888 888 T88b\r\n",
      "888        Y88b. .d88P 888       d8888888888 888  T88b\r\n",
      "888         \"Y88888P\"  88888888 d88P     888 888   T88b\r\n",
      "\r\n",
      "By the ProbInG group\r\n",
      "\u001B[0m\r\n",
      "\r\n",
      "\r\n",
      "\u001B[36m-------------------\u001B[0m\r\n",
      "\u001B[36m- Analysis Result -\u001B[0m\r\n",
      "\u001B[36m-------------------\u001B[0m\r\n",
      "\r\n",
      "E(stop) = 0; 1 - 1/2**n\r\n",
      "\u001B[32mSolution is exact\u001B[0m\r\n",
      "\r\n",
      "E(steps) = 0; 2 - 2/2**n\r\n",
      "\u001B[32mSolution is exact\u001B[0m\r\n",
      "\r\n",
      "E(x) = 1; 2; n + 1\r\n",
      "\u001B[32mSolution is exact\u001B[0m\r\n",
      "\r\n",
      "\r\n",
      "\u001B[36m-------------------\u001B[0m\r\n",
      "\u001B[36m-   Invariants    -\u001B[0m\r\n",
      "\u001B[36m-------------------\u001B[0m\r\n",
      "\r\n",
      "Following is a gröbner basis for the invariant ideal:\r\n",
      "\r\n",
      "-E(steps) + 2*E(stop) = 0\r\n",
      "\r\n",
      "Elapsed time: 0.45613980293273926 s\r\n"
     ]
    }
   ],
   "source": [
    "!python ../polar.py loops/geometric.prob --goals \"E(stop)\" \"E(steps)\" \"E(x)\" --invariants"
   ],
   "metadata": {
    "collapsed": false,
    "pycharm": {
     "name": "#%%\n"
    }
   }
  },
  {
   "cell_type": "code",
   "execution_count": 5,
   "outputs": [
    {
     "name": "stdout",
     "output_type": "stream",
     "text": [
      "{E(steps) - 2*E(stop)}\n"
     ]
    }
   ],
   "source": [
    "from inputparser import Parser\n",
    "from program import normalize_program\n",
    "from recurrences import RecBuilder\n",
    "from recurrences.solver import RecurrenceSolver\n",
    "from invariants import InvariantIdeal\n",
    "\n",
    "program = Parser().parse_file(\"loops/geometric.prob\")\n",
    "# Construct normal form so that Polar can analyze it\n",
    "program = normalize_program(program)\n",
    "\n",
    "# Construct and solve recurrences\n",
    "rec_builder = RecBuilder(program)\n",
    "monomials = [\"steps\", \"stop\", \"x\"]\n",
    "closed_forms = {}\n",
    "for monomial in monomials:\n",
    "    # Construct the recurrences describing E(monomial) -> expected value of monomial\n",
    "    recurrences = rec_builder.get_recurrences(monomial)\n",
    "    # solve and save the closed-forms (use E(monomial) as the id because the loop is probabilistic)\n",
    "    closed_forms[f\"E({monomial})\"] = RecurrenceSolver(recurrences).get(monomial)\n",
    "\n",
    "# Construct the invariant ideal\n",
    "invariant_ideal = InvariantIdeal(closed_forms)\n",
    "basis = invariant_ideal.compute_basis()\n",
    "print(basis)"
   ],
   "metadata": {
    "collapsed": false,
    "pycharm": {
     "name": "#%%\n"
    }
   }
  },
  {
   "cell_type": "code",
   "execution_count": null,
   "outputs": [],
   "source": [],
   "metadata": {
    "collapsed": false,
    "pycharm": {
     "name": "#%%\n"
    }
   }
  }
 ],
 "metadata": {
  "kernelspec": {
   "display_name": "Python 3",
   "language": "python",
   "name": "python3"
  },
  "language_info": {
   "codemirror_mode": {
    "name": "ipython",
    "version": 2
   },
   "file_extension": ".py",
   "mimetype": "text/x-python",
   "name": "python",
   "nbconvert_exporter": "python",
   "pygments_lexer": "ipython2",
   "version": "2.7.6"
  }
 },
 "nbformat": 4,
 "nbformat_minor": 0
}
