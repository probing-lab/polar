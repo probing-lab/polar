{
 "cells": [
  {
   "cell_type": "markdown",
   "source": [
    "# Computing Closed-form Formulas"
   ],
   "metadata": {
    "collapsed": false
   }
  },
  {
   "cell_type": "markdown",
   "source": [
    "As explained in the README.md Polar can compute closed-form formulas for moments of program variables.\n",
    "The formulas are parameterized by the number of loop iterations `n` and give you the moments after `n` many loop iterations.\n",
    "\n",
    "## Command Line Interface\n",
    "\n",
    "Let's compute the expected values and variances (second central moments) for the program variables `x` and `y` for the probabilistic loop in `loops/loop.prob` over the command line."
   ],
   "metadata": {
    "collapsed": false
   }
  },
  {
   "cell_type": "code",
   "execution_count": 3,
   "metadata": {
    "collapsed": true,
    "pycharm": {
     "name": "#%%\n"
    }
   },
   "outputs": [
    {
     "name": "stdout",
     "output_type": "stream",
     "text": [
      "\u001B[32m\r\n",
      "8888888b.   .d88888b.  888             d8888 8888888b.\r\n",
      "888   Y88b d88P\" \"Y88b 888            d88888 888   Y88b\r\n",
      "888    888 888     888 888           d88P888 888    888\r\n",
      "888   d88P 888     888 888          d88P 888 888   d88P\r\n",
      "8888888P\"  888     888 888         d88P  888 8888888P\"\r\n",
      "888        888     888 888        d88P   888 888 T88b\r\n",
      "888        Y88b. .d88P 888       d8888888888 888  T88b\r\n",
      "888         \"Y88888P\"  88888888 d88P     888 888   T88b\r\n",
      "\r\n",
      "By the ProbInG group\r\n",
      "\u001B[0m\r\n",
      "\r\n",
      "\r\n",
      "\u001B[36m-------------------\u001B[0m\r\n",
      "\u001B[36m- Analysis Result -\u001B[0m\r\n",
      "\u001B[36m-------------------\u001B[0m\r\n",
      "\r\n",
      "E(x) = 1; n**3/256 + 133*n**2/256 + 205*n/128 + 1\r\n",
      "\u001B[32mSolution is exact\u001B[0m\r\n",
      "\r\n",
      "E(y) = 0; -n/8\r\n",
      "\u001B[32mSolution is exact\u001B[0m\r\n",
      "\r\n",
      "c2(x) = 0; 419*n**5/65536 + 1381*n**4/3072 + 313165*n**3/196608 + 291097*n**2/98304 + 131467*n/24576\r\n",
      "\u001B[32mSolution is exact\u001B[0m\r\n",
      "\r\n",
      "c2(y) = 0; 87*n/64\r\n",
      "\u001B[32mSolution is exact\u001B[0m\r\n",
      "\r\n",
      "Elapsed time: 1.4715957641601562 s\r\n"
     ]
    }
   ],
   "source": [
    "!python ../polar.py loops/loop.prob --goals \"E(x)\" \"E(y)\" \"c2(x)\" \"c2(y)\""
   ]
  },
  {
   "cell_type": "markdown",
   "source": [
    "For every moment we passed in the `goals` parameter Polar outputs some initial values and a formula parameterized the number of loop iterations `n`.\n",
    "\n",
    "## In Python\n",
    "\n",
    "We can perform the same computation in our own Python files by importing Polar.\n",
    "\n",
    "First we have to load the program:"
   ],
   "metadata": {
    "collapsed": false
   }
  },
  {
   "cell_type": "code",
   "execution_count": 7,
   "outputs": [
    {
     "name": "stdout",
     "output_type": "stream",
     "text": [
      "_t2 = 1\n",
      "_t3 = 0\n",
      "x = _t2\n",
      "y = _t3\n",
      "while true:\n",
      "    c1 = Bernoulli(1/2)\n",
      "    c2 = Bernoulli(1/2)\n",
      "    if c1 + c2 < 2:\n",
      "        y = 1 + y {1/2} -2 + y {1/3} y\n",
      "        g = Normal(y, 1)\n",
      "        x = x + g**2\n",
      "end\n"
     ]
    }
   ],
   "source": [
    "from inputparser import Parser\n",
    "\n",
    "program = Parser().parse_file(\"loops/loop.prob\")\n",
    "print(program)"
   ],
   "metadata": {
    "collapsed": false,
    "pycharm": {
     "name": "#%%\n"
    }
   }
  },
  {
   "cell_type": "markdown",
   "source": [
    "Next we have to convert the program into its \"normal form\" such that Polar can analyze it further."
   ],
   "metadata": {
    "collapsed": false
   }
  },
  {
   "cell_type": "code",
   "execution_count": 9,
   "outputs": [
    {
     "name": "stdout",
     "output_type": "stream",
     "text": [
      "types\n",
      "    c1 : Finite(0, 1)\n",
      "    c2 : Finite(0, 1)\n",
      "    _r5 : Finite(0, -2, -1)\n",
      "end\n",
      "x = 1\n",
      "y = 0\n",
      "while true:\n",
      "    c1 = Bernoulli(1/2)\n",
      "    c2 = Bernoulli(1/2)\n",
      "    _r5 = -2 + c1 + c2\n",
      "    y = 1 + y {1/2} -2 + y {1/3} y  |  (_r5 == -2 ∨ _r5 == -1)  :  y\n",
      "    _u4 = Normal(0, 1)  |  (_r5 == -2 ∨ _r5 == -1)  :  _u4\n",
      "    g = _u4 + y  |  (_r5 == -2 ∨ _r5 == -1)  :  g\n",
      "    x = x + g**2  |  (_r5 == -2 ∨ _r5 == -1)  :  x\n",
      "end\n"
     ]
    }
   ],
   "source": [
    "from program import normalize_program\n",
    "\n",
    "program = normalize_program(program)\n",
    "print(program)"
   ],
   "metadata": {
    "collapsed": false,
    "pycharm": {
     "name": "#%%\n"
    }
   }
  },
  {
   "cell_type": "markdown",
   "source": [
    "Now, we can use some functionality provided by Polar to construct a system of recurrences modelling the expected values of monomials in program variables.\n",
    "We then solve the recurrences to obtain the closed-form formulas."
   ],
   "metadata": {
    "collapsed": false
   }
  },
  {
   "cell_type": "code",
   "execution_count": 10,
   "outputs": [
    {
     "name": "stdout",
     "output_type": "stream",
     "text": [
      "{'x': Piecewise((1, n <= 0), (n**3/256 + 133*n**2/256 + 205*n/128 + 1, True)), 'y': Piecewise((0, n <= 0), (-n/8, True)), 'x**2': Piecewise((1, n <= 0), (n**6/65536 + 685*n**5/65536 + 143911*n**4/196608 + 641881*n**3/196608 + 645391*n**2/98304 + 210187*n/24576 + 1, True)), 'y**2': Piecewise((0, n <= 0), (n*(n + 87)/64, True))}\n"
     ]
    }
   ],
   "source": [
    "from recurrences import RecBuilder\n",
    "from recurrences.solver import RecurrenceSolver\n",
    "\n",
    "rec_builder = RecBuilder(program)\n",
    "monomials = [\"x\", \"y\", \"x**2\", \"y**2\"]\n",
    "closed_forms = {}\n",
    "for monomial in monomials:\n",
    "    # Construct the recurrences describing E(monomial) -> expected value of monomial\n",
    "    recurrences = rec_builder.get_recurrences(monomial)\n",
    "    # solve and save the closed-forms\n",
    "    closed_forms[monomial] = RecurrenceSolver(recurrences).get(monomial)\n",
    "print(closed_forms)"
   ],
   "metadata": {
    "collapsed": false,
    "pycharm": {
     "name": "#%%\n"
    }
   }
  },
  {
   "cell_type": "markdown",
   "source": [
    "The closed-forms are sympy expressions that contain the initial values and the closed-form formulas. It is possible that more than one initial values are listed before the general formula. The whole expressions describe the expected values of the monomials parameterized by the number of loop iterations `n`. The dictionary contains the first and second raw moments of `x` and `y`. If we want the variances we could compute it from the first and second moments."
   ],
   "metadata": {
    "collapsed": false
   }
  }
 ],
 "metadata": {
  "kernelspec": {
   "display_name": "Python 3",
   "language": "python",
   "name": "python3"
  },
  "language_info": {
   "codemirror_mode": {
    "name": "ipython",
    "version": 2
   },
   "file_extension": ".py",
   "mimetype": "text/x-python",
   "name": "python",
   "nbconvert_exporter": "python",
   "pygments_lexer": "ipython2",
   "version": "2.7.6"
  }
 },
 "nbformat": 4,
 "nbformat_minor": 0
}
