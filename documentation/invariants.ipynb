{
 "cells": [
  {
   "cell_type": "markdown",
   "source": [
    "# Computing Invariant Ideals"
   ],
   "metadata": {
    "collapsed": false
   }
  },
  {
   "cell_type": "markdown",
   "source": [
    "As mentioned in the README.md Polar can compute invariants among moments of program variables.\n",
    "Given some moments Polar produces a list of invariants among them. Moreover, these invariants form a basis for the ideal of all polynomial invariants among the given moments.\n",
    "\n",
    "# Command Line Interface\n",
    "\n",
    "To produce the invariants, we pass the moments we want to consider in the `goals` parameter and additionally use the `invariants` flag."
   ],
   "metadata": {
    "collapsed": false
   }
  },
  {
   "cell_type": "code",
   "execution_count": 1,
   "metadata": {
    "collapsed": true
   },
   "outputs": [
    {
     "name": "stdout",
     "output_type": "stream",
     "text": [
      "\u001B[32m\r\n",
      "8888888b.   .d88888b.  888             d8888 8888888b.\r\n",
      "888   Y88b d88P\" \"Y88b 888            d88888 888   Y88b\r\n",
      "888    888 888     888 888           d88P888 888    888\r\n",
      "888   d88P 888     888 888          d88P 888 888   d88P\r\n",
      "8888888P\"  888     888 888         d88P  888 8888888P\"\r\n",
      "888        888     888 888        d88P   888 888 T88b\r\n",
      "888        Y88b. .d88P 888       d8888888888 888  T88b\r\n",
      "888         \"Y88888P\"  88888888 d88P     888 888   T88b\r\n",
      "\r\n",
      "By the ProbInG group\r\n",
      "\u001B[0m\r\n",
      "\r\n",
      "\r\n",
      "\u001B[36m-------------------\u001B[0m\r\n",
      "\u001B[36m- Analysis Result -\u001B[0m\r\n",
      "\u001B[36m-------------------\u001B[0m\r\n",
      "\r\n",
      "E(x) = 1; n**3/256 + 133*n**2/256 + 205*n/128 + 1\r\n",
      "\u001B[32mSolution is exact\u001B[0m\r\n",
      "\r\n",
      "E(y) = 0; -n/8\r\n",
      "\u001B[32mSolution is exact\u001B[0m\r\n",
      "\r\n",
      "E(x**2) = 1; n**6/65536 + 685*n**5/65536 + 143911*n**4/196608 + 641881*n**3/196608 + 645391*n**2/98304 + 210187*n/24576 + 1\r\n",
      "\u001B[32mSolution is exact\u001B[0m\r\n",
      "\r\n",
      "\r\n",
      "\u001B[36m-------------------\u001B[0m\r\n",
      "\u001B[36m-   Invariants    -\u001B[0m\r\n",
      "\u001B[36m-------------------\u001B[0m\r\n",
      "\r\n",
      "Following is a gröbner basis for the invariant ideal:\r\n",
      "\r\n",
      "E(x) + 2*E(y)**3 - 133*E(y)**2/4 + 205*E(y)/16 - 1 = 0\r\n",
      "\r\n",
      "-E(x**2)/4 + E(y)**6 - 685*E(y)**5/8 + 143911*E(y)**4/192 - 641881*E(y)**3/1536 + 645391*E(y)**2/6144 - 210187*E(y)/12288 + 1/4 = 0\r\n",
      "\r\n",
      "Elapsed time: 1.4491610527038574 s\r\n"
     ]
    }
   ],
   "source": [
    "!python ../polar.py loops/loop.prob --goals \"E(x)\" \"E(y)\" \"E(x**2)\" --invariants"
   ]
  },
  {
   "cell_type": "markdown",
   "source": [
    "Polar now outputs the closed-form formulas of the moments followed by a basis for the ideal of *all* polynomial invariants.\n",
    "If we want the invariants for a non-probabilistic loop, we can omit the goals parameter and get a basis for *all* polynomial invariants."
   ],
   "metadata": {
    "collapsed": false
   }
  },
  {
   "cell_type": "code",
   "execution_count": 2,
   "outputs": [
    {
     "name": "stdout",
     "output_type": "stream",
     "text": [
      "\u001B[32m\r\n",
      "8888888b.   .d88888b.  888             d8888 8888888b.\r\n",
      "888   Y88b d88P\" \"Y88b 888            d88888 888   Y88b\r\n",
      "888    888 888     888 888           d88P888 888    888\r\n",
      "888   d88P 888     888 888          d88P 888 888   d88P\r\n",
      "8888888P\"  888     888 888         d88P  888 8888888P\"\r\n",
      "888        888     888 888        d88P   888 888 T88b\r\n",
      "888        Y88b. .d88P 888       d8888888888 888  T88b\r\n",
      "888         \"Y88888P\"  88888888 d88P     888 888   T88b\r\n",
      "\r\n",
      "By the ProbInG group\r\n",
      "\u001B[0m\r\n",
      "\r\n",
      "\r\n",
      "\u001B[36m-------------------\u001B[0m\r\n",
      "\u001B[36m- Analysis Result -\u001B[0m\r\n",
      "\u001B[36m-------------------\u001B[0m\r\n",
      "\r\n",
      "z = 1; (-1)**n\r\n",
      "\u001B[32mSolution is exact\u001B[0m\r\n",
      "\r\n",
      "a = 0; 0; 1; sqrt(5)*(1/2 - sqrt(5)/2)**n/10 + (1/2 - sqrt(5)/2)**n/2 - sqrt(5)*(1/2 + sqrt(5)/2)**n/10 + (1/2 + sqrt(5)/2)**n/2\r\n",
      "\u001B[32mSolution is exact\u001B[0m\r\n",
      "\r\n",
      "b = 0; -sqrt(5)*(1/2 - sqrt(5)/2)**n/5 + sqrt(5)*(1/2 + sqrt(5)/2)**n/5\r\n",
      "\u001B[32mSolution is exact\u001B[0m\r\n",
      "\r\n",
      "c = 1; 1; 2; -sqrt(5)*(1/2 - sqrt(5)/2)**n/10 + (1/2 - sqrt(5)/2)**n/2 + sqrt(5)*(1/2 + sqrt(5)/2)**n/10 + (1/2 + sqrt(5)/2)**n/2\r\n",
      "\u001B[32mSolution is exact\u001B[0m\r\n",
      "\r\n",
      "\r\n",
      "\u001B[36m-------------------\u001B[0m\r\n",
      "\u001B[36m-   Invariants    -\u001B[0m\r\n",
      "\u001B[36m-------------------\u001B[0m\r\n",
      "\r\n",
      "Following is a gröbner basis for the invariant ideal:\r\n",
      "\r\n",
      "a + b - c = 0\r\n",
      "\r\n",
      "b**2 + b*c - c**2 + z = 0\r\n",
      "\r\n",
      "b**4 + 2*b**3*c - b**2*c**2 - 2*b*c**3 + c**4 - 1 = 0\r\n",
      "\r\n",
      "Elapsed time: 0.9830586910247803 s\r\n"
     ]
    }
   ],
   "source": [
    "!python ../polar.py loops/fibonacci2.prob --invariants"
   ],
   "metadata": {
    "collapsed": false,
    "pycharm": {
     "name": "#%%\n"
    }
   }
  },
  {
   "cell_type": "markdown",
   "source": [
    "# In Python\n",
    "\n",
    "We can also compute invariants using Python by importing the functionality in Polar. We first have to compute the closed-forms and then construct the invariant ideal:"
   ],
   "metadata": {
    "collapsed": false
   }
  },
  {
   "cell_type": "code",
   "execution_count": 3,
   "outputs": [
    {
     "name": "stdout",
     "output_type": "stream",
     "text": [
      "{-E(x**2)/4 + E(y)**6 - 685*E(y)**5/8 + 143911*E(y)**4/192 - 641881*E(y)**3/1536 + 645391*E(y)**2/6144 - 210187*E(y)/12288 + 1/4, E(x) + 2*E(y)**3 - 133*E(y)**2/4 + 205*E(y)/16 - 1}\n"
     ]
    }
   ],
   "source": [
    "from inputparser import Parser\n",
    "from program import normalize_program\n",
    "from recurrences import RecBuilder\n",
    "from recurrences.solver import RecurrenceSolver\n",
    "from invariants import InvariantIdeal\n",
    "\n",
    "program = Parser().parse_file(\"loops/loop.prob\")\n",
    "# Construct normal form so that Polar can analyze it\n",
    "program = normalize_program(program)\n",
    "\n",
    "# Construct and solve recurrences\n",
    "rec_builder = RecBuilder(program)\n",
    "monomials = [\"x\", \"y\", \"x**2\"]\n",
    "closed_forms = {}\n",
    "for monomial in monomials:\n",
    "    # Construct the recurrences describing E(monomial) -> expected value of monomial\n",
    "    recurrences = rec_builder.get_recurrences(monomial)\n",
    "    # solve and save the closed-forms (use E(monomial) as the id because the loop is probabilistic)\n",
    "    closed_forms[f\"E({monomial})\"] = RecurrenceSolver(recurrences).get(monomial)\n",
    "\n",
    "# Construct the invariant ideal\n",
    "invariant_ideal = InvariantIdeal(closed_forms)\n",
    "basis = invariant_ideal.compute_basis()\n",
    "print(basis)"
   ],
   "metadata": {
    "collapsed": false,
    "pycharm": {
     "name": "#%%\n"
    }
   }
  },
  {
   "cell_type": "markdown",
   "source": [
    "The basis contains two elements that capture all invariants among the expected values of `x`, `y` and `x**2`. We can perform the same computation for our non-probabilistic loop to get a basis for the invariant ideal."
   ],
   "metadata": {
    "collapsed": false
   }
  },
  {
   "cell_type": "code",
   "execution_count": 4,
   "outputs": [
    {
     "name": "stdout",
     "output_type": "stream",
     "text": [
      "{b**2 + b*c - c**2 + z, b**4 + 2*b**3*c - b**2*c**2 - 2*b*c**3 + c**4 - 1, a + b - c}\n"
     ]
    }
   ],
   "source": [
    "from inputparser import Parser\n",
    "from program import normalize_program\n",
    "from recurrences import RecBuilder\n",
    "from recurrences.solver import RecurrenceSolver\n",
    "from invariants import InvariantIdeal\n",
    "\n",
    "program = Parser().parse_file(\"loops/fibonacci2.prob\")\n",
    "# Construct normal form so that Polar can analyze it\n",
    "program = normalize_program(program)\n",
    "\n",
    "# Construct and solve recurrences\n",
    "rec_builder = RecBuilder(program)\n",
    "closed_forms = {}\n",
    "# We only need to consider variables because the loop is non-probabilistic\n",
    "for variable in program.original_variables:\n",
    "    # Construct the recurrences describing the values of \"variable\"\n",
    "    recurrences = rec_builder.get_recurrences(variable)\n",
    "    # solve and save the closed-forms\n",
    "    closed_forms[str(variable)] = RecurrenceSolver(recurrences).get(variable)\n",
    "\n",
    "# Construct the invariant ideal\n",
    "invariant_ideal = InvariantIdeal(closed_forms)\n",
    "basis = invariant_ideal.compute_basis()\n",
    "print(basis)"
   ],
   "metadata": {
    "collapsed": false,
    "pycharm": {
     "name": "#%%\n"
    }
   }
  },
  {
   "cell_type": "code",
   "execution_count": null,
   "outputs": [],
   "source": [],
   "metadata": {
    "collapsed": false,
    "pycharm": {
     "name": "#%%\n"
    }
   }
  }
 ],
 "metadata": {
  "kernelspec": {
   "display_name": "Python 3",
   "language": "python",
   "name": "python3"
  },
  "language_info": {
   "codemirror_mode": {
    "name": "ipython",
    "version": 2
   },
   "file_extension": ".py",
   "mimetype": "text/x-python",
   "name": "python",
   "nbconvert_exporter": "python",
   "pygments_lexer": "ipython2",
   "version": "2.7.6"
  }
 },
 "nbformat": 4,
 "nbformat_minor": 0
}
