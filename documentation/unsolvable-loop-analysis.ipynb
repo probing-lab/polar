{
 "cells": [
  {
   "cell_type": "markdown",
   "source": [
    "# Unsolvable Loop Analysis"
   ],
   "metadata": {
    "collapsed": false,
    "pycharm": {
     "name": "#%% md\n"
    }
   }
  },
  {
   "cell_type": "markdown",
   "source": [
    "All the functionality described in this notebook is from our paper called [(Un)Solvable Loop Analysis](https://arxiv.org/abs/2306.01597).\n",
    "Check it out for more details on the theory behind what is illustrated in this notebook.\n",
    "\n",
    "Polar usually requires that the programs it analyzes satisfy some requirements (see [README.md](../README.md)).\n",
    "One of the requirements is that there are no non-linear cyclic dependencies. This sounds more complicated than it actually is.\n",
    "Let's look at an example of a loop that violates this requirement and is called *unsolvable*:"
   ],
   "metadata": {
    "collapsed": false
   }
  },
  {
   "cell_type": "code",
   "execution_count": 2,
   "outputs": [
    {
     "name": "stdout",
     "output_type": "stream",
     "text": [
      "a, b, c = 1, 1, 2\r\n",
      "while true:\r\n",
      "    d = Bernoulli(1/2)\r\n",
      "    if d == 1:\r\n",
      "        a, b, c = a, 3*a*b - c, b\r\n",
      "    else:\r\n",
      "        a, b, c = b, 3*b*c - a, c\r\n",
      "    end\r\n",
      "end\r\n"
     ]
    }
   ],
   "source": [
    "!cat loops/markov-triples-random.prob"
   ],
   "metadata": {
    "collapsed": false,
    "pycharm": {
     "name": "#%%\n"
    }
   }
  },
  {
   "cell_type": "markdown",
   "source": [
    "The loop has program variables `a,b,c` and `d`. The variable `d` just draws from `Bernoulli` distribution.\n",
    "However, the other three variables are all mutually dependent: `a` depends on `b`, `b` depends on `a`, `b` and `c`, `c` depends on `b`.\n",
    "Hence, there are multiple cycles in the dependency graph. A cycle means we can start a variable follow other variables it depends on and eventually get back to where we started.\n",
    "Moreover, some dependencies in these cycles are non-linear because of the assignments `3*a*b - c` and `3*b*c - a`.\n",
    "This means the loop contains non-linear cyclic dependencies and hence the loop is *unsolvable*. In this example the variable `d` is unproblematic, we call it *effective*, whereas the variables `a,b,c` are problematic and called `defective`. Polar cannot analyze unsolvable loops the same way as it analyzes solvable loops. If we would just blindly run Polar on this loop for computing an expected value, it would not terminate.\n",
    "We can pass the additional parameter `solvability_check` to Polar and instead of running forever Polar will tell us that is loop us indeed unsolvable."
   ],
   "metadata": {
    "collapsed": false
   }
  },
  {
   "cell_type": "code",
   "execution_count": 5,
   "outputs": [
    {
     "name": "stdout",
     "output_type": "stream",
     "text": [
      "\u001B[32m\r\n",
      "8888888b.   .d88888b.  888             d8888 8888888b.\r\n",
      "888   Y88b d88P\" \"Y88b 888            d88888 888   Y88b\r\n",
      "888    888 888     888 888           d88P888 888    888\r\n",
      "888   d88P 888     888 888          d88P 888 888   d88P\r\n",
      "8888888P\"  888     888 888         d88P  888 8888888P\"\r\n",
      "888        888     888 888        d88P   888 888 T88b\r\n",
      "888        Y88b. .d88P 888       d8888888888 888  T88b\r\n",
      "888         \"Y88888P\"  88888888 d88P     888 888   T88b\r\n",
      "\r\n",
      "By the ProbInG group\r\n",
      "\u001B[0m\r\n",
      "\r\n",
      "\r\n",
      "\u001B[36m-------------------\u001B[0m\r\n",
      "\u001B[36m- Analysis Result -\u001B[0m\r\n",
      "\u001B[36m-------------------\u001B[0m\r\n",
      "\r\n",
      "Traceback (most recent call last):\r\n",
      "  File \"/home/marcel/Repos/polar/documentation/../polar.py\", line 35, in <module>\r\n",
      "    main()\r\n",
      "  File \"/home/marcel/Repos/polar/documentation/../polar.py\", line 27, in main\r\n",
      "    raise e\r\n",
      "  File \"/home/marcel/Repos/polar/documentation/../polar.py\", line 25, in main\r\n",
      "    action(benchmark)\r\n",
      "  File \"/home/marcel/Repos/polar/cli/actions/goals_action.py\", line 54, in __call__\r\n",
      "    self.handle_all_goals()\r\n",
      "  File \"/home/marcel/Repos/polar/cli/actions/goals_action.py\", line 80, in handle_all_goals\r\n",
      "    moment, is_exact = self.handle_moment_goal(goal_data)\r\n",
      "                       ^^^^^^^^^^^^^^^^^^^^^^^^^^^^^^^^^^\r\n",
      "  File \"/home/marcel/Repos/polar/cli/actions/goals_action.py\", line 121, in handle_moment_goal\r\n",
      "    moment, is_exact = get_moment(\r\n",
      "                       ^^^^^^^^^^^\r\n",
      "  File \"/home/marcel/Repos/polar/cli/common.py\", line 20, in get_moment\r\n",
      "    raise Exception(f\"{monom} is not effective/solvable.\")\r\n",
      "Exception: c is not effective/solvable.\r\n"
     ]
    }
   ],
   "source": [
    "!python ../polar.py loops/markov-triples-random.prob --goals \"E(c)\" --solvability_check"
   ],
   "metadata": {
    "collapsed": false,
    "pycharm": {
     "name": "#%%\n"
    }
   }
  },
  {
   "cell_type": "markdown",
   "source": [
    "## Synthesize Unsolvable Invariants\n",
    "\n",
    "However, not everything is lost. Although we cannot compute the moments of individual variables, Polar can search for polynomials in the defective variables that have a closed-form formula.\n",
    "For this, we pass the parameter `synth_unsolv_inv` (for \"synthesizing unsolvable invariant\") and a maximum degree for the polynomial we want to look for (through the parameter `inv_deg`)."
   ],
   "metadata": {
    "collapsed": false
   }
  },
  {
   "cell_type": "code",
   "execution_count": 10,
   "outputs": [
    {
     "name": "stdout",
     "output_type": "stream",
     "text": [
      "\u001B[32m\r\n",
      "8888888b.   .d88888b.  888             d8888 8888888b.\r\n",
      "888   Y88b d88P\" \"Y88b 888            d88888 888   Y88b\r\n",
      "888    888 888     888 888           d88P888 888    888\r\n",
      "888   d88P 888     888 888          d88P 888 888   d88P\r\n",
      "8888888P\"  888     888 888         d88P  888 8888888P\"\r\n",
      "888        888     888 888        d88P   888 888 T88b\r\n",
      "888        Y88b. .d88P 888       d8888888888 888  T88b\r\n",
      "888         \"Y88888P\"  88888888 d88P     888 888   T88b\r\n",
      "\r\n",
      "By the ProbInG group\r\n",
      "\u001B[0m\r\n",
      "\r\n",
      "\r\n",
      "\u001B[36m-------------------\u001B[0m\r\n",
      "\u001B[36m- Analysis Result -\u001B[0m\r\n",
      "\u001B[36m-------------------\u001B[0m\r\n",
      "\r\n",
      "Searching for invariants for special case k = 1..\r\n",
      "No invariant found with degree 2 and k=1\r\n",
      "\r\n",
      "Searching for invariants, general case..\r\n",
      "E(-_u27*(a - c)*(a + c)) = 3*2**(-n)*_u27\r\n",
      "E(-(a - c)*(_u24 + _u27*a + _u27*c)) = 2**(-n)*(_u24 + 3*_u27)\r\n",
      "Elapsed time: 0.9417839050292969 s\r\n"
     ]
    }
   ],
   "source": [
    "!python ../polar.py loops/markov-triples-random.prob --synth_unsolv_inv --inv_deg 2"
   ],
   "metadata": {
    "collapsed": false,
    "pycharm": {
     "name": "#%%\n"
    }
   }
  },
  {
   "cell_type": "markdown",
   "source": [
    "Polar has found two classes of quadratic polynomials in `a`, `b`, and `c` together with their closed-form formulas (of the expected value), although each variable individually does not admit a closed-form formula.\n",
    "The symbolic constants (beginning with an underscore) in the formulas represent any real number. So, for every instantiation of these symbols with a real number we have a polynomial in the defective variables.\n",
    "whose expected value admits a closed-form formula."
   ],
   "metadata": {
    "collapsed": false
   }
  },
  {
   "cell_type": "markdown",
   "source": [
    "## Synthesize Solvable from Unsolvable Loop\n",
    "\n",
    "Polar can also synthesize a solvable loop from an unsolvable loop. To do so, Polar first computes \"well-behaved\" polynomials for the unsolvable loop as illustrated above. Then it deletes all defective variables in the unsolvable loop and introduces a new variable (begins with `_s`) that models the found \"well-behaved\" polynomial in defective variables. For every \"well-behaved\" polynomials of defective variables Polar synthesize one loop. Because we previously got two classes of polynomials Polar synthesizes two loops (for the maximum degree 2).\n",
    "The synthesized loops are always non-probabilistic. For effective variables, the variables in the synthesized loops model the expected values of the original variables."
   ],
   "metadata": {
    "collapsed": false
   }
  },
  {
   "cell_type": "code",
   "execution_count": 11,
   "outputs": [
    {
     "name": "stdout",
     "output_type": "stream",
     "text": [
      "\u001B[32m\r\n",
      "8888888b.   .d88888b.  888             d8888 8888888b.\r\n",
      "888   Y88b d88P\" \"Y88b 888            d88888 888   Y88b\r\n",
      "888    888 888     888 888           d88P888 888    888\r\n",
      "888   d88P 888     888 888          d88P 888 888   d88P\r\n",
      "8888888P\"  888     888 888         d88P  888 8888888P\"\r\n",
      "888        888     888 888        d88P   888 888 T88b\r\n",
      "888        Y88b. .d88P 888       d8888888888 888  T88b\r\n",
      "888         \"Y88888P\"  88888888 d88P     888 888   T88b\r\n",
      "\r\n",
      "By the ProbInG group\r\n",
      "\u001B[0m\r\n",
      "\r\n",
      "\r\n",
      "\u001B[36m-------------------\u001B[0m\r\n",
      "\u001B[36m- Analysis Result -\u001B[0m\r\n",
      "\u001B[36m-------------------\u001B[0m\r\n",
      "\r\n",
      "Synthesized solvable loop: \r\n",
      "_t22 = d0\r\n",
      "_s20 = 3*_u17\r\n",
      "d = _t22\r\n",
      "while true:\r\n",
      "    _t22 = 1/2\r\n",
      "    _s20 = (1/2)*_s20\r\n",
      "    d = _t22\r\n",
      "end\r\n",
      "\r\n",
      "Invariant used: \r\n",
      "(-a**2*_u17 + c**2*_u17, 3*2**(-n)*_u17)\r\n",
      "\r\n",
      "\r\n",
      "Synthesized solvable loop: \r\n",
      "_t23 = d0\r\n",
      "_s21 = _u14 + 3*_u17\r\n",
      "d = _t23\r\n",
      "while true:\r\n",
      "    _t23 = 1/2\r\n",
      "    _s21 = (1/2)*_s21\r\n",
      "    d = _t23\r\n",
      "end\r\n",
      "\r\n",
      "Invariant used: \r\n",
      "(-a*_u14 - a**2*_u17 + c*_u14 + c**2*_u17, 2**(-n)*(_u14 + 3*_u17))\r\n",
      "\r\n",
      "\r\n",
      "Elapsed time: 0.8217787742614746 s\r\n"
     ]
    }
   ],
   "source": [
    "!python ../polar.py loops/markov-triples-random.prob --synth_solv_loop --inv_deg 2"
   ],
   "metadata": {
    "collapsed": false,
    "pycharm": {
     "name": "#%%\n"
    }
   }
  },
  {
   "cell_type": "markdown",
   "source": [
    "## In Python\n",
    "\n",
    "We can perform the same computation in Python code instead of the CLI.\n",
    "We first load the program, decide among which variables Polar should look for a \"well-behaved\" polynomial and up to which maximum degree."
   ],
   "metadata": {
    "collapsed": false
   }
  },
  {
   "cell_type": "code",
   "execution_count": 6,
   "outputs": [
    {
     "name": "stdout",
     "output_type": "stream",
     "text": [
      "[(a**2*_u167 - c**2*_u167, -3*2**(-n)*_u167), (a*_u164 + a**2*_u167 - c*_u164 - c**2*_u167, 2**(-n)*(-_u164 - 3*_u167))]\n"
     ]
    }
   ],
   "source": [
    "from inputparser import Parser\n",
    "from program import normalize_program\n",
    "from unsolvable_analysis import UnsolvInvSynthesizer\n",
    "\n",
    "# Load program and convert to normal form\n",
    "program = Parser().parse_file(\"loops/markov-triples-random.prob\")\n",
    "program = normalize_program(program)\n",
    "\n",
    "# We want to look for \"well-behaved\" polynomials among all program variables that are defective\n",
    "# That is a,b and c in our example\n",
    "defective_vars = [v for v in program.original_variables if v in program.defective_variables]\n",
    "# Search for polynomials up to a maximum degree of two.\n",
    "inv_deg = 2\n",
    "solutions = UnsolvInvSynthesizer.synth_inv(defective_vars, inv_deg, program)\n",
    "print(solutions)"
   ],
   "metadata": {
    "collapsed": false,
    "pycharm": {
     "name": "#%%\n"
    }
   }
  },
  {
   "cell_type": "markdown",
   "source": [
    "We get the same two classes of polynomials together with their closed-form formulas as we found through the command line interface.\n",
    "We can synthesize solvable loops from the unsolvable loop similarly:"
   ],
   "metadata": {
    "collapsed": false
   }
  },
  {
   "cell_type": "code",
   "execution_count": 9,
   "outputs": [
    {
     "name": "stdout",
     "output_type": "stream",
     "text": [
      "Synthesized solvable loop: \n",
      "_t229 = d0\n",
      "_s227 = -3*_u224\n",
      "d = _t229\n",
      "while true:\n",
      "    _t229 = 1/2\n",
      "    _s227 = (1/2)*_s227\n",
      "    d = _t229\n",
      "end\n",
      "\n",
      "Invariant used: \n",
      "(a**2*_u224 - c**2*_u224, -3*2**(-n)*_u224)\n",
      "\n",
      "\n",
      "Synthesized solvable loop: \n",
      "_t230 = d0\n",
      "_s228 = -_u221 - 3*_u224\n",
      "d = _t230\n",
      "while true:\n",
      "    _t230 = 1/2\n",
      "    _s228 = (1/2)*_s228\n",
      "    d = _t230\n",
      "end\n",
      "\n",
      "Invariant used: \n",
      "(a*_u221 + a**2*_u224 - c*_u221 - c**2*_u224, 2**(-n)*(-_u221 - 3*_u224))\n",
      "\n",
      "\n"
     ]
    }
   ],
   "source": [
    "from inputparser import Parser\n",
    "from program import normalize_program\n",
    "from unsolvable_analysis import SolvLoopSynthesizer\n",
    "\n",
    "program = Parser().parse_file(\"loops/markov-triples-random.prob\")\n",
    "program = normalize_program(program)\n",
    "defective_vars = [v for v in program.original_variables if v in program.defective_variables]\n",
    "inv_deg = 2\n",
    "invariants, solvable_programs = SolvLoopSynthesizer.synth_loop(defective_vars, inv_deg, program)\n",
    "\n",
    "for invariant, solvable_program in zip(invariants, solvable_programs):\n",
    "    print(\"Synthesized solvable loop: \")\n",
    "    print(solvable_program)\n",
    "    print()\n",
    "    print(\"Invariant used: \")\n",
    "    print(invariant)\n",
    "    print()\n",
    "    print()"
   ],
   "metadata": {
    "collapsed": false,
    "pycharm": {
     "name": "#%%\n"
    }
   }
  }
 ],
 "metadata": {
  "kernelspec": {
   "display_name": "Python 3",
   "language": "python",
   "name": "python3"
  },
  "language_info": {
   "codemirror_mode": {
    "name": "ipython",
    "version": 2
   },
   "file_extension": ".py",
   "mimetype": "text/x-python",
   "name": "python",
   "nbconvert_exporter": "python",
   "pygments_lexer": "ipython2",
   "version": "2.7.6"
  }
 },
 "nbformat": 4,
 "nbformat_minor": 0
}
