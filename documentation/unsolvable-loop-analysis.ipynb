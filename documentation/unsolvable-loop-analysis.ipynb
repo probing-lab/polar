{
 "cells": [
  {
   "cell_type": "markdown",
   "source": [
    "# Unsolvable Loop Analysis"
   ],
   "metadata": {
    "collapsed": false,
    "pycharm": {
     "name": "#%% md\n"
    }
   }
  },
  {
   "cell_type": "code",
   "execution_count": 2,
   "outputs": [
    {
     "name": "stdout",
     "output_type": "stream",
     "text": [
      "a, b, c = 1, 1, 2\r\n",
      "while true:\r\n",
      "    d = Bernoulli(1/2)\r\n",
      "    if d == 1:\r\n",
      "        a, b, c = a, 3*a*b - c, b\r\n",
      "    else:\r\n",
      "        a, b, c = b, 3*b*c - a, c\r\n",
      "    end\r\n",
      "end\r\n"
     ]
    }
   ],
   "source": [
    "!cat loops/markov-triples-random.prob"
   ],
   "metadata": {
    "collapsed": false,
    "pycharm": {
     "name": "#%%\n"
    }
   }
  },
  {
   "cell_type": "code",
   "execution_count": 5,
   "outputs": [
    {
     "name": "stdout",
     "output_type": "stream",
     "text": [
      "\u001B[32m\r\n",
      "8888888b.   .d88888b.  888             d8888 8888888b.\r\n",
      "888   Y88b d88P\" \"Y88b 888            d88888 888   Y88b\r\n",
      "888    888 888     888 888           d88P888 888    888\r\n",
      "888   d88P 888     888 888          d88P 888 888   d88P\r\n",
      "8888888P\"  888     888 888         d88P  888 8888888P\"\r\n",
      "888        888     888 888        d88P   888 888 T88b\r\n",
      "888        Y88b. .d88P 888       d8888888888 888  T88b\r\n",
      "888         \"Y88888P\"  88888888 d88P     888 888   T88b\r\n",
      "\r\n",
      "By the ProbInG group\r\n",
      "\u001B[0m\r\n",
      "\r\n",
      "\r\n",
      "\u001B[36m-------------------\u001B[0m\r\n",
      "\u001B[36m- Analysis Result -\u001B[0m\r\n",
      "\u001B[36m-------------------\u001B[0m\r\n",
      "\r\n",
      "Traceback (most recent call last):\r\n",
      "  File \"/home/marcel/Repos/polar/documentation/../polar.py\", line 35, in <module>\r\n",
      "    main()\r\n",
      "  File \"/home/marcel/Repos/polar/documentation/../polar.py\", line 27, in main\r\n",
      "    raise e\r\n",
      "  File \"/home/marcel/Repos/polar/documentation/../polar.py\", line 25, in main\r\n",
      "    action(benchmark)\r\n",
      "  File \"/home/marcel/Repos/polar/cli/actions/goals_action.py\", line 54, in __call__\r\n",
      "    self.handle_all_goals()\r\n",
      "  File \"/home/marcel/Repos/polar/cli/actions/goals_action.py\", line 80, in handle_all_goals\r\n",
      "    moment, is_exact = self.handle_moment_goal(goal_data)\r\n",
      "                       ^^^^^^^^^^^^^^^^^^^^^^^^^^^^^^^^^^\r\n",
      "  File \"/home/marcel/Repos/polar/cli/actions/goals_action.py\", line 121, in handle_moment_goal\r\n",
      "    moment, is_exact = get_moment(\r\n",
      "                       ^^^^^^^^^^^\r\n",
      "  File \"/home/marcel/Repos/polar/cli/common.py\", line 20, in get_moment\r\n",
      "    raise Exception(f\"{monom} is not effective/solvable.\")\r\n",
      "Exception: c is not effective/solvable.\r\n"
     ]
    }
   ],
   "source": [
    "!python ../polar.py loops/markov-triples-random.prob --goals \"E(c)\" --solvability_check"
   ],
   "metadata": {
    "collapsed": false,
    "pycharm": {
     "name": "#%%\n"
    }
   }
  },
  {
   "cell_type": "code",
   "execution_count": 10,
   "outputs": [
    {
     "name": "stdout",
     "output_type": "stream",
     "text": [
      "\u001B[32m\r\n",
      "8888888b.   .d88888b.  888             d8888 8888888b.\r\n",
      "888   Y88b d88P\" \"Y88b 888            d88888 888   Y88b\r\n",
      "888    888 888     888 888           d88P888 888    888\r\n",
      "888   d88P 888     888 888          d88P 888 888   d88P\r\n",
      "8888888P\"  888     888 888         d88P  888 8888888P\"\r\n",
      "888        888     888 888        d88P   888 888 T88b\r\n",
      "888        Y88b. .d88P 888       d8888888888 888  T88b\r\n",
      "888         \"Y88888P\"  88888888 d88P     888 888   T88b\r\n",
      "\r\n",
      "By the ProbInG group\r\n",
      "\u001B[0m\r\n",
      "\r\n",
      "\r\n",
      "\u001B[36m-------------------\u001B[0m\r\n",
      "\u001B[36m- Analysis Result -\u001B[0m\r\n",
      "\u001B[36m-------------------\u001B[0m\r\n",
      "\r\n",
      "Searching for invariants for special case k = 1..\r\n",
      "No invariant found with degree 2 and k=1\r\n",
      "\r\n",
      "Searching for invariants, general case..\r\n",
      "E(-_u27*(a - c)*(a + c)) = 3*2**(-n)*_u27\r\n",
      "E(-(a - c)*(_u24 + _u27*a + _u27*c)) = 2**(-n)*(_u24 + 3*_u27)\r\n",
      "Elapsed time: 0.9417839050292969 s\r\n"
     ]
    }
   ],
   "source": [
    "!python ../polar.py loops/markov-triples-random.prob --synth_unsolv_inv --inv_deg 2"
   ],
   "metadata": {
    "collapsed": false,
    "pycharm": {
     "name": "#%%\n"
    }
   }
  },
  {
   "cell_type": "code",
   "execution_count": 11,
   "outputs": [
    {
     "name": "stdout",
     "output_type": "stream",
     "text": [
      "\u001B[32m\r\n",
      "8888888b.   .d88888b.  888             d8888 8888888b.\r\n",
      "888   Y88b d88P\" \"Y88b 888            d88888 888   Y88b\r\n",
      "888    888 888     888 888           d88P888 888    888\r\n",
      "888   d88P 888     888 888          d88P 888 888   d88P\r\n",
      "8888888P\"  888     888 888         d88P  888 8888888P\"\r\n",
      "888        888     888 888        d88P   888 888 T88b\r\n",
      "888        Y88b. .d88P 888       d8888888888 888  T88b\r\n",
      "888         \"Y88888P\"  88888888 d88P     888 888   T88b\r\n",
      "\r\n",
      "By the ProbInG group\r\n",
      "\u001B[0m\r\n",
      "\r\n",
      "\r\n",
      "\u001B[36m-------------------\u001B[0m\r\n",
      "\u001B[36m- Analysis Result -\u001B[0m\r\n",
      "\u001B[36m-------------------\u001B[0m\r\n",
      "\r\n",
      "Synthesized solvable loop: \r\n",
      "_t22 = d0\r\n",
      "_s20 = 3*_u17\r\n",
      "d = _t22\r\n",
      "while true:\r\n",
      "    _t22 = 1/2\r\n",
      "    _s20 = (1/2)*_s20\r\n",
      "    d = _t22\r\n",
      "end\r\n",
      "\r\n",
      "Invariant used: \r\n",
      "(-a**2*_u17 + c**2*_u17, 3*2**(-n)*_u17)\r\n",
      "\r\n",
      "\r\n",
      "Synthesized solvable loop: \r\n",
      "_t23 = d0\r\n",
      "_s21 = _u14 + 3*_u17\r\n",
      "d = _t23\r\n",
      "while true:\r\n",
      "    _t23 = 1/2\r\n",
      "    _s21 = (1/2)*_s21\r\n",
      "    d = _t23\r\n",
      "end\r\n",
      "\r\n",
      "Invariant used: \r\n",
      "(-a*_u14 - a**2*_u17 + c*_u14 + c**2*_u17, 2**(-n)*(_u14 + 3*_u17))\r\n",
      "\r\n",
      "\r\n",
      "Elapsed time: 0.8217787742614746 s\r\n"
     ]
    }
   ],
   "source": [
    "!python ../polar.py loops/markov-triples-random.prob --synth_solv_loop --inv_deg 2"
   ],
   "metadata": {
    "collapsed": false,
    "pycharm": {
     "name": "#%%\n"
    }
   }
  },
  {
   "cell_type": "code",
   "execution_count": 6,
   "outputs": [
    {
     "name": "stdout",
     "output_type": "stream",
     "text": [
      "[(a**2*_u167 - c**2*_u167, -3*2**(-n)*_u167), (a*_u164 + a**2*_u167 - c*_u164 - c**2*_u167, 2**(-n)*(-_u164 - 3*_u167))]\n"
     ]
    }
   ],
   "source": [
    "from inputparser import Parser\n",
    "from program import normalize_program\n",
    "from unsolvable_analysis import UnsolvInvSynthesizer\n",
    "\n",
    "program = Parser().parse_file(\"loops/markov-triples-random.prob\")\n",
    "program = normalize_program(program)\n",
    "defective_vars = [v for v in program.original_variables if v in program.defective_variables]\n",
    "inv_deg = 2\n",
    "solutions = UnsolvInvSynthesizer.synth_inv(defective_vars, inv_deg, program)\n",
    "print(solutions)"
   ],
   "metadata": {
    "collapsed": false,
    "pycharm": {
     "name": "#%%\n"
    }
   }
  },
  {
   "cell_type": "code",
   "execution_count": 9,
   "outputs": [
    {
     "name": "stdout",
     "output_type": "stream",
     "text": [
      "Synthesized solvable loop: \n",
      "_t229 = d0\n",
      "_s227 = -3*_u224\n",
      "d = _t229\n",
      "while true:\n",
      "    _t229 = 1/2\n",
      "    _s227 = (1/2)*_s227\n",
      "    d = _t229\n",
      "end\n",
      "\n",
      "Invariant used: \n",
      "(a**2*_u224 - c**2*_u224, -3*2**(-n)*_u224)\n",
      "\n",
      "\n",
      "Synthesized solvable loop: \n",
      "_t230 = d0\n",
      "_s228 = -_u221 - 3*_u224\n",
      "d = _t230\n",
      "while true:\n",
      "    _t230 = 1/2\n",
      "    _s228 = (1/2)*_s228\n",
      "    d = _t230\n",
      "end\n",
      "\n",
      "Invariant used: \n",
      "(a*_u221 + a**2*_u224 - c*_u221 - c**2*_u224, 2**(-n)*(-_u221 - 3*_u224))\n",
      "\n",
      "\n"
     ]
    }
   ],
   "source": [
    "from inputparser import Parser\n",
    "from program import normalize_program\n",
    "from unsolvable_analysis import SolvLoopSynthesizer\n",
    "\n",
    "program = Parser().parse_file(\"loops/markov-triples-random.prob\")\n",
    "program = normalize_program(program)\n",
    "defective_vars = [v for v in program.original_variables if v in program.defective_variables]\n",
    "inv_deg = 2\n",
    "invariants, solvable_programs = SolvLoopSynthesizer.synth_loop(defective_vars, inv_deg, program)\n",
    "\n",
    "for invariant, solvable_program in zip(invariants, solvable_programs):\n",
    "    print(\"Synthesized solvable loop: \")\n",
    "    print(solvable_program)\n",
    "    print()\n",
    "    print(\"Invariant used: \")\n",
    "    print(invariant)\n",
    "    print()\n",
    "    print()"
   ],
   "metadata": {
    "collapsed": false,
    "pycharm": {
     "name": "#%%\n"
    }
   }
  }
 ],
 "metadata": {
  "kernelspec": {
   "display_name": "Python 3",
   "language": "python",
   "name": "python3"
  },
  "language_info": {
   "codemirror_mode": {
    "name": "ipython",
    "version": 2
   },
   "file_extension": ".py",
   "mimetype": "text/x-python",
   "name": "python",
   "nbconvert_exporter": "python",
   "pygments_lexer": "ipython2",
   "version": "2.7.6"
  }
 },
 "nbformat": 4,
 "nbformat_minor": 0
}
